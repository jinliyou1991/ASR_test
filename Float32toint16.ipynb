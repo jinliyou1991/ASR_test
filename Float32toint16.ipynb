{
 "cells": [
  {
   "cell_type": "code",
   "execution_count": 1,
   "id": "639769c1",
   "metadata": {},
   "outputs": [],
   "source": [
    "import numpy as np\n",
    "import soundfile as sf\n",
    "\n",
    "from pathlib import Path\n",
    "from tqdm import tqdm"
   ]
  },
  {
   "cell_type": "code",
   "execution_count": 2,
   "id": "5715b55d",
   "metadata": {
    "tags": []
   },
   "outputs": [
    {
     "name": "stderr",
     "output_type": "stream",
     "text": [
      "100%|█████████████████████████████████████████████████████████████████████████████████████████████████████████████████████████████████████████████████████████| 2215/2215 [00:47<00:00, 46.94it/s]\n"
     ]
    }
   ],
   "source": [
    "audio_files = list(Path.cwd().joinpath('/mnt/ASR_test/Data/TMHINTQI_V2').glob('*.wav'))\n",
    "\n",
    "for audio_file in tqdm(audio_files):\n",
    "    data, samplerate = sf.read(str(audio_file), dtype='float32')\n",
    "    data = np.int16(data * 32767)\n",
    "    sf.write(f\"/mnt/ASR_test/Data/TMHINTQI_V2_PCM/{audio_file.stem}.wav\", data, samplerate, 'PCM_16')\n",
    "    "
   ]
  }
 ],
 "metadata": {
  "kernelspec": {
   "display_name": "Python [conda env:InternSE]",
   "language": "python",
   "name": "conda-env-InternSE-py"
  },
  "language_info": {
   "codemirror_mode": {
    "name": "ipython",
    "version": 3
   },
   "file_extension": ".py",
   "mimetype": "text/x-python",
   "name": "python",
   "nbconvert_exporter": "python",
   "pygments_lexer": "ipython3",
   "version": "3.10.10"
  }
 },
 "nbformat": 4,
 "nbformat_minor": 5
}
