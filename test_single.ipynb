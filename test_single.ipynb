{
 "cells": [
  {
   "cell_type": "code",
   "execution_count": 1,
   "id": "7ccf2d1b-2dd0-4ac0-ab86-1e4ed6503b44",
   "metadata": {},
   "outputs": [
    {
     "name": "stderr",
     "output_type": "stream",
     "text": [
      "/home/jin/miniconda3/envs/ASR/lib/python3.10/site-packages/torch/cuda/__init__.py:107: UserWarning: CUDA initialization: Unexpected error from cudaGetDeviceCount(). Did you run some cuda functions before calling NumCudaDevices() that might have already set an error? Error 804: forward compatibility was attempted on non supported HW (Triggered internally at ../c10/cuda/CUDAFunctions.cpp:109.)\n",
      "  return torch._C._cuda_getDeviceCount() > 0\n"
     ]
    }
   ],
   "source": [
    "import os, sys, pdb, argparse\n",
    "from jiwer import wer,cer\n",
    "import whisper\n",
    "import torch\n",
    "torch.cuda.is_available()\n",
    "DEVICE = \"cuda\" if torch.cuda.is_available() else \"cpu\""
   ]
  },
  {
   "cell_type": "code",
   "execution_count": 2,
   "id": "f4ca86cc-4317-4acf-a43c-1fffbcbd8ccc",
   "metadata": {},
   "outputs": [],
   "source": [
    "wav_path = '/mnt/ASR_test/Data/alexi_date20220410_23-00-00_0059500-0061312.wav'"
   ]
  },
  {
   "cell_type": "code",
   "execution_count": 6,
   "id": "b41ba6f5-7a89-4a38-baa0-aa6665ef55ad",
   "metadata": {},
   "outputs": [],
   "source": [
    "# model = whisper.load_model(\"large-v1\", device=DEVICE)\n",
    "model1 = whisper.load_model(\"large-v1\", device=DEVICE)\n",
    "model2 = whisper.load_model(\"large-v2\", device=DEVICE)\n",
    "model3 = whisper.load_model(\"large-v3\", device=DEVICE)"
   ]
  },
  {
   "cell_type": "code",
   "execution_count": 7,
   "id": "c0ee1f90-6c60-437a-895e-de137741d685",
   "metadata": {
    "tags": []
   },
   "outputs": [
    {
     "name": "stderr",
     "output_type": "stream",
     "text": [
      "/home/jin/miniconda3/envs/ASR/lib/python3.10/site-packages/whisper/transcribe.py:115: UserWarning: FP16 is not supported on CPU; using FP32 instead\n",
      "  warnings.warn(\"FP16 is not supported on CPU; using FP32 instead\")\n",
      "/home/jin/miniconda3/envs/ASR/lib/python3.10/site-packages/whisper/transcribe.py:115: UserWarning: FP16 is not supported on CPU; using FP32 instead\n",
      "  warnings.warn(\"FP16 is not supported on CPU; using FP32 instead\")\n",
      "/home/jin/miniconda3/envs/ASR/lib/python3.10/site-packages/whisper/transcribe.py:115: UserWarning: FP16 is not supported on CPU; using FP32 instead\n",
      "  warnings.warn(\"FP16 is not supported on CPU; using FP32 instead\")\n"
     ]
    }
   ],
   "source": [
    "pred_1 = model1.transcribe(wav_path, language=\"zh\")\n",
    "pred_2 = model2.transcribe(wav_path, language=\"zh\")\n",
    "pred_3 = model3.transcribe(wav_path, language=\"zh\")"
   ]
  },
  {
   "cell_type": "code",
   "execution_count": 10,
   "id": "23570e1a-73d8-4d78-be76-c51d4d30dece",
   "metadata": {
    "tags": []
   },
   "outputs": [
    {
     "name": "stdout",
     "output_type": "stream",
     "text": [
      "Result\n",
      "large-v1 : 一直飄來飄去\n",
      "large-v2 : 哈哈 一直變\n",
      "large : 哈哈 這是不要\n"
     ]
    }
   ],
   "source": [
    "print('Result')\n",
    "print('large-v1 :',pred_1['text'])\n",
    "print('large-v2 :',pred_2['text'])\n",
    "print('large :',pred_3['text'])"
   ]
  },
  {
   "cell_type": "code",
   "execution_count": null,
   "id": "fe9984e8-6f22-4acc-a00b-b4ae7a32c236",
   "metadata": {},
   "outputs": [],
   "source": []
  }
 ],
 "metadata": {
  "kernelspec": {
   "display_name": "Python [conda env:ASR]",
   "language": "python",
   "name": "conda-env-ASR-py"
  },
  "language_info": {
   "codemirror_mode": {
    "name": "ipython",
    "version": 3
   },
   "file_extension": ".py",
   "mimetype": "text/x-python",
   "name": "python",
   "nbconvert_exporter": "python",
   "pygments_lexer": "ipython3",
   "version": "3.10.12"
  }
 },
 "nbformat": 4,
 "nbformat_minor": 5
}
